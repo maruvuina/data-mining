{
 "cells": [
  {
   "cell_type": "markdown",
   "id": "4b03eda5",
   "metadata": {},
   "source": [
    "# Lab 2"
   ]
  },
  {
   "cell_type": "markdown",
   "id": "317d4fab",
   "metadata": {},
   "source": [
    "## Import dependencies"
   ]
  },
  {
   "cell_type": "code",
   "execution_count": 1,
   "id": "12329be3",
   "metadata": {},
   "outputs": [],
   "source": [
    "import pandas as pd\n",
    "import numpy as np\n",
    "from sklearn.linear_model import LinearRegression\n",
    "from matplotlib import pyplot as plt"
   ]
  },
  {
   "cell_type": "markdown",
   "id": "0d623c65",
   "metadata": {},
   "source": [
    "## Read and display data"
   ]
  },
  {
   "cell_type": "code",
   "execution_count": 2,
   "id": "5802b5a8",
   "metadata": {},
   "outputs": [
    {
     "data": {
      "text/html": [
       "<div>\n",
       "<style scoped>\n",
       "    .dataframe tbody tr th:only-of-type {\n",
       "        vertical-align: middle;\n",
       "    }\n",
       "\n",
       "    .dataframe tbody tr th {\n",
       "        vertical-align: top;\n",
       "    }\n",
       "\n",
       "    .dataframe thead th {\n",
       "        text-align: right;\n",
       "    }\n",
       "</style>\n",
       "<table border=\"1\" class=\"dataframe\">\n",
       "  <thead>\n",
       "    <tr style=\"text-align: right;\">\n",
       "      <th></th>\n",
       "      <th>col_0</th>\n",
       "      <th>col_1</th>\n",
       "      <th>col_2</th>\n",
       "      <th>col_3</th>\n",
       "      <th>col_4</th>\n",
       "      <th>col_5</th>\n",
       "    </tr>\n",
       "  </thead>\n",
       "  <tbody>\n",
       "    <tr>\n",
       "      <th>0</th>\n",
       "      <td>2</td>\n",
       "      <td>65</td>\n",
       "      <td>9</td>\n",
       "      <td>3</td>\n",
       "      <td>6</td>\n",
       "      <td>0</td>\n",
       "    </tr>\n",
       "    <tr>\n",
       "      <th>1</th>\n",
       "      <td>2</td>\n",
       "      <td>46</td>\n",
       "      <td>21</td>\n",
       "      <td>12</td>\n",
       "      <td>6</td>\n",
       "      <td>3</td>\n",
       "    </tr>\n",
       "    <tr>\n",
       "      <th>2</th>\n",
       "      <td>2</td>\n",
       "      <td>51</td>\n",
       "      <td>20</td>\n",
       "      <td>8</td>\n",
       "      <td>9</td>\n",
       "      <td>3</td>\n",
       "    </tr>\n",
       "    <tr>\n",
       "      <th>3</th>\n",
       "      <td>2</td>\n",
       "      <td>28</td>\n",
       "      <td>23</td>\n",
       "      <td>10</td>\n",
       "      <td>9</td>\n",
       "      <td>4</td>\n",
       "    </tr>\n",
       "    <tr>\n",
       "      <th>4</th>\n",
       "      <td>2</td>\n",
       "      <td>42</td>\n",
       "      <td>16</td>\n",
       "      <td>8</td>\n",
       "      <td>5</td>\n",
       "      <td>3</td>\n",
       "    </tr>\n",
       "    <tr>\n",
       "      <th>...</th>\n",
       "      <td>...</td>\n",
       "      <td>...</td>\n",
       "      <td>...</td>\n",
       "      <td>...</td>\n",
       "      <td>...</td>\n",
       "      <td>...</td>\n",
       "    </tr>\n",
       "    <tr>\n",
       "      <th>1451</th>\n",
       "      <td>2</td>\n",
       "      <td>31</td>\n",
       "      <td>19</td>\n",
       "      <td>9</td>\n",
       "      <td>6</td>\n",
       "      <td>4</td>\n",
       "    </tr>\n",
       "    <tr>\n",
       "      <th>1452</th>\n",
       "      <td>2</td>\n",
       "      <td>30</td>\n",
       "      <td>7</td>\n",
       "      <td>3</td>\n",
       "      <td>3</td>\n",
       "      <td>1</td>\n",
       "    </tr>\n",
       "    <tr>\n",
       "      <th>1453</th>\n",
       "      <td>2</td>\n",
       "      <td>46</td>\n",
       "      <td>5</td>\n",
       "      <td>2</td>\n",
       "      <td>2</td>\n",
       "      <td>1</td>\n",
       "    </tr>\n",
       "    <tr>\n",
       "      <th>1454</th>\n",
       "      <td>1</td>\n",
       "      <td>38</td>\n",
       "      <td>9</td>\n",
       "      <td>7</td>\n",
       "      <td>2</td>\n",
       "      <td>0</td>\n",
       "    </tr>\n",
       "    <tr>\n",
       "      <th>1455</th>\n",
       "      <td>1</td>\n",
       "      <td>34</td>\n",
       "      <td>19</td>\n",
       "      <td>7</td>\n",
       "      <td>10</td>\n",
       "      <td>2</td>\n",
       "    </tr>\n",
       "  </tbody>\n",
       "</table>\n",
       "<p>1456 rows × 6 columns</p>\n",
       "</div>"
      ],
      "text/plain": [
       "      col_0  col_1  col_2  col_3  col_4  col_5\n",
       "0         2     65      9      3      6      0\n",
       "1         2     46     21     12      6      3\n",
       "2         2     51     20      8      9      3\n",
       "3         2     28     23     10      9      4\n",
       "4         2     42     16      8      5      3\n",
       "...     ...    ...    ...    ...    ...    ...\n",
       "1451      2     31     19      9      6      4\n",
       "1452      2     30      7      3      3      1\n",
       "1453      2     46      5      2      2      1\n",
       "1454      1     38      9      7      2      0\n",
       "1455      1     34     19      7     10      2\n",
       "\n",
       "[1456 rows x 6 columns]"
      ]
     },
     "execution_count": 2,
     "metadata": {},
     "output_type": "execute_result"
    }
   ],
   "source": [
    "df = pd.read_csv('lab1.csv')\n",
    "df"
   ]
  },
  {
   "cell_type": "markdown",
   "id": "251658d7",
   "metadata": {},
   "source": [
    "## Correlation and LinearRegression"
   ]
  },
  {
   "cell_type": "markdown",
   "id": "1e1849e5",
   "metadata": {},
   "source": [
    "### Find correlation between all the features and display\n",
    "It is a faster way to find correlation than calculating separately for each variable."
   ]
  },
  {
   "cell_type": "code",
   "execution_count": 3,
   "id": "8bd1c2db",
   "metadata": {},
   "outputs": [
    {
     "data": {
      "image/png": "[encoded data removed]",
      "text/plain": [
       "<Figure size 640x480 with 2 Axes>"
      ]
     },
     "metadata": {},
     "output_type": "display_data"
    }
   ],
   "source": [
    "corr = df.corr(method='kendall')\n",
    "\n",
    "fig = plt.figure()\n",
    "ax = fig.add_subplot(111)\n",
    "color_map = ax.matshow(corr, cmap='coolwarm', vmin=-1, vmax=1)\n",
    "fig.colorbar(color_map)\n",
    "ticks = np.arange(0, len(df.columns), 1)\n",
    "ax.set_xticks(ticks)\n",
    "ax.set_yticks(ticks)\n",
    "ax.set_xticklabels(df.columns)\n",
    "ax.set_yticklabels(df.columns)\n",
    "\n",
    "plt.show()"
   ]
  },
  {
   "cell_type": "markdown",
   "id": "c2c041ff",
   "metadata": {},
   "source": [
    "### Declare input feature(s) and target feature(s)\n",
    "We can check linear relation between 'col_2' and 'col_3'"
   ]
  },
  {
   "cell_type": "code",
   "execution_count": 4,
   "id": "795a3de4",
   "metadata": {
    "scrolled": true
   },
   "outputs": [
    {
     "data": {
      "text/plain": [
       "((1456, 1), (1456, 1))"
      ]
     },
     "execution_count": 4,
     "metadata": {},
     "output_type": "execute_result"
    }
   ],
   "source": [
    "X = df[['col_2']].values\n",
    "y = df[['col_3']].values\n",
    "\n",
    "X.shape, y.shape"
   ]
  },
  {
   "cell_type": "markdown",
   "id": "ec0a49f7",
   "metadata": {},
   "source": [
    "### Fit the regrassion model and evaluate it"
   ]
  },
  {
   "cell_type": "code",
   "execution_count": 5,
   "id": "245ebf10",
   "metadata": {},
   "outputs": [],
   "source": [
    "reg = LinearRegression().fit(X, y)"
   ]
  },
  {
   "cell_type": "markdown",
   "id": "367fc199",
   "metadata": {},
   "source": [
    "### Get R^2 score (regression determination coefficient)\n",
    "For 'col_2' and 'col_3'"
   ]
  },
  {
   "cell_type": "code",
   "execution_count": 6,
   "id": "aadbffdb",
   "metadata": {},
   "outputs": [
    {
     "data": {
      "text/plain": [
       "0.8181809402423814"
      ]
     },
     "execution_count": 6,
     "metadata": {},
     "output_type": "execute_result"
    }
   ],
   "source": [
    "reg.score(X, y)"
   ]
  },
  {
   "cell_type": "markdown",
   "id": "fa9be8bc",
   "metadata": {},
   "source": [
    "### Find correlation\n",
    "For 'col_2' and 'col_3'"
   ]
  },
  {
   "cell_type": "code",
   "execution_count": 7,
   "id": "6d870115",
   "metadata": {},
   "outputs": [
    {
     "data": {
      "text/html": [
       "<div>\n",
       "<style scoped>\n",
       "    .dataframe tbody tr th:only-of-type {\n",
       "        vertical-align: middle;\n",
       "    }\n",
       "\n",
       "    .dataframe tbody tr th {\n",
       "        vertical-align: top;\n",
       "    }\n",
       "\n",
       "    .dataframe thead th {\n",
       "        text-align: right;\n",
       "    }\n",
       "</style>\n",
       "<table border=\"1\" class=\"dataframe\">\n",
       "  <thead>\n",
       "    <tr style=\"text-align: right;\">\n",
       "      <th></th>\n",
       "      <th>col_2</th>\n",
       "      <th>col_3</th>\n",
       "    </tr>\n",
       "  </thead>\n",
       "  <tbody>\n",
       "    <tr>\n",
       "      <th>col_2</th>\n",
       "      <td>1.000000</td>\n",
       "      <td>0.756893</td>\n",
       "    </tr>\n",
       "    <tr>\n",
       "      <th>col_3</th>\n",
       "      <td>0.756893</td>\n",
       "      <td>1.000000</td>\n",
       "    </tr>\n",
       "  </tbody>\n",
       "</table>\n",
       "</div>"
      ],
      "text/plain": [
       "          col_2     col_3\n",
       "col_2  1.000000  0.756893\n",
       "col_3  0.756893  1.000000"
      ]
     },
     "execution_count": 7,
     "metadata": {},
     "output_type": "execute_result"
    }
   ],
   "source": [
    "df[['col_2', 'col_3']].corr(method='kendall')"
   ]
  },
  {
   "cell_type": "markdown",
   "id": "0fa8af73",
   "metadata": {},
   "source": [
    "### Graph\n",
    "For 'col_2' and 'col_3'"
   ]
  },
  {
   "cell_type": "code",
   "execution_count": 8,
   "id": "7958cfd7",
   "metadata": {},
   "outputs": [
    {
     "data": {
      "image/png": "[encoded data removed]",
      "text/plain": [
       "<Figure size 640x480 with 1 Axes>"
      ]
     },
     "metadata": {},
     "output_type": "display_data"
    }
   ],
   "source": [
    "plt.scatter(X, y,color='g')\n",
    "plt.plot(X, reg.predict(X),color='k')\n",
    "\n",
    "plt.show()"
   ]
  },
  {
   "cell_type": "markdown",
   "id": "0e51e9d2",
   "metadata": {},
   "source": [
    "### Declare input feature(s) and target feature(s)\n",
    "We can check linear relation between 'col_2' and 'col_4'"
   ]
  },
  {
   "cell_type": "code",
   "execution_count": 9,
   "id": "24988b6f",
   "metadata": {},
   "outputs": [
    {
     "data": {
      "text/plain": [
       "((1456, 1), (1456, 1))"
      ]
     },
     "execution_count": 9,
     "metadata": {},
     "output_type": "execute_result"
    }
   ],
   "source": [
    "X = df[['col_2']].values\n",
    "y = df[['col_4']].values\n",
    "\n",
    "X.shape, y.shape"
   ]
  },
  {
   "cell_type": "markdown",
   "id": "1f81fd82",
   "metadata": {},
   "source": [
    "### Fit the regrassion model and evaluate it"
   ]
  },
  {
   "cell_type": "code",
   "execution_count": 10,
   "id": "6a427b4b",
   "metadata": {},
   "outputs": [],
   "source": [
    "reg = LinearRegression().fit(X, y)"
   ]
  },
  {
   "cell_type": "markdown",
   "id": "9de3b3ec",
   "metadata": {},
   "source": [
    "### Get R^2 score (regression determination coefficient)\n",
    "For 'col_2' and 'col_4'"
   ]
  },
  {
   "cell_type": "code",
   "execution_count": 11,
   "id": "f0cb3835",
   "metadata": {},
   "outputs": [
    {
     "data": {
      "text/plain": [
       "0.6737676990598742"
      ]
     },
     "execution_count": 11,
     "metadata": {},
     "output_type": "execute_result"
    }
   ],
   "source": [
    "reg.score(X, y)"
   ]
  },
  {
   "cell_type": "markdown",
   "id": "e59ba954",
   "metadata": {},
   "source": [
    "### Find correlation\n",
    "For 'col_2' and 'col_4'"
   ]
  },
  {
   "cell_type": "code",
   "execution_count": 12,
   "id": "ad41da19",
   "metadata": {},
   "outputs": [
    {
     "data": {
      "text/html": [
       "<div>\n",
       "<style scoped>\n",
       "    .dataframe tbody tr th:only-of-type {\n",
       "        vertical-align: middle;\n",
       "    }\n",
       "\n",
       "    .dataframe tbody tr th {\n",
       "        vertical-align: top;\n",
       "    }\n",
       "\n",
       "    .dataframe thead th {\n",
       "        text-align: right;\n",
       "    }\n",
       "</style>\n",
       "<table border=\"1\" class=\"dataframe\">\n",
       "  <thead>\n",
       "    <tr style=\"text-align: right;\">\n",
       "      <th></th>\n",
       "      <th>col_2</th>\n",
       "      <th>col_4</th>\n",
       "    </tr>\n",
       "  </thead>\n",
       "  <tbody>\n",
       "    <tr>\n",
       "      <th>col_2</th>\n",
       "      <td>1.000000</td>\n",
       "      <td>0.650502</td>\n",
       "    </tr>\n",
       "    <tr>\n",
       "      <th>col_4</th>\n",
       "      <td>0.650502</td>\n",
       "      <td>1.000000</td>\n",
       "    </tr>\n",
       "  </tbody>\n",
       "</table>\n",
       "</div>"
      ],
      "text/plain": [
       "          col_2     col_4\n",
       "col_2  1.000000  0.650502\n",
       "col_4  0.650502  1.000000"
      ]
     },
     "execution_count": 12,
     "metadata": {},
     "output_type": "execute_result"
    }
   ],
   "source": [
    "df[['col_2', 'col_4']].corr(method='kendall') "
   ]
  },
  {
   "cell_type": "markdown",
   "id": "b9108027",
   "metadata": {},
   "source": [
    "### Graph\n",
    "For 'col_2' and 'col_4'"
   ]
  },
  {
   "cell_type": "code",
   "execution_count": 13,
   "id": "d79a41db",
   "metadata": {},
   "outputs": [
    {
     "data": {
      "image/png": "[encoded data removed]",
      "text/plain": [
       "<Figure size 640x480 with 1 Axes>"
      ]
     },
     "metadata": {},
     "output_type": "display_data"
    }
   ],
   "source": [
    "plt.scatter(X, y,color='g')\n",
    "plt.plot(X, reg.predict(X),color='k')\n",
    "\n",
    "plt.show()"
   ]
  },
  {
   "cell_type": "markdown",
   "id": "0f1c7f9f",
   "metadata": {},
   "source": [
    "### Declare input feature(s) and target feature(s)\n",
    "We can check linear relation between 'col_2' and 'col_5'"
   ]
  },
  {
   "cell_type": "code",
   "execution_count": 14,
   "id": "b3205a91",
   "metadata": {},
   "outputs": [
    {
     "data": {
      "text/plain": [
       "((1456, 1), (1456, 1))"
      ]
     },
     "execution_count": 14,
     "metadata": {},
     "output_type": "execute_result"
    }
   ],
   "source": [
    "X = df[['col_2']].values\n",
    "y = df[['col_5']].values\n",
    "\n",
    "X.shape, y.shape"
   ]
  },
  {
   "cell_type": "markdown",
   "id": "4389649f",
   "metadata": {},
   "source": [
    "### Fit the regrassion model and evaluate it"
   ]
  },
  {
   "cell_type": "code",
   "execution_count": 15,
   "id": "be46efa8",
   "metadata": {},
   "outputs": [],
   "source": [
    "reg = LinearRegression().fit(X, y)"
   ]
  },
  {
   "cell_type": "markdown",
   "id": "e5006bdb",
   "metadata": {},
   "source": [
    "### Get R^2 score (regression determination coefficient)\n",
    "For 'col_2' and 'col_5'"
   ]
  },
  {
   "cell_type": "code",
   "execution_count": 16,
   "id": "373da383",
   "metadata": {},
   "outputs": [
    {
     "data": {
      "text/plain": [
       "0.5806385818132707"
      ]
     },
     "execution_count": 16,
     "metadata": {},
     "output_type": "execute_result"
    }
   ],
   "source": [
    "reg.score(X, y)"
   ]
  },
  {
   "cell_type": "markdown",
   "id": "9a91eb65",
   "metadata": {},
   "source": [
    "### Find correlation\n",
    "For 'col_2' and 'col_5'"
   ]
  },
  {
   "cell_type": "code",
   "execution_count": 17,
   "id": "0e2f0438",
   "metadata": {
    "scrolled": true
   },
   "outputs": [
    {
     "data": {
      "text/html": [
       "<div>\n",
       "<style scoped>\n",
       "    .dataframe tbody tr th:only-of-type {\n",
       "        vertical-align: middle;\n",
       "    }\n",
       "\n",
       "    .dataframe tbody tr th {\n",
       "        vertical-align: top;\n",
       "    }\n",
       "\n",
       "    .dataframe thead th {\n",
       "        text-align: right;\n",
       "    }\n",
       "</style>\n",
       "<table border=\"1\" class=\"dataframe\">\n",
       "  <thead>\n",
       "    <tr style=\"text-align: right;\">\n",
       "      <th></th>\n",
       "      <th>col_2</th>\n",
       "      <th>col_5</th>\n",
       "    </tr>\n",
       "  </thead>\n",
       "  <tbody>\n",
       "    <tr>\n",
       "      <th>col_2</th>\n",
       "      <td>1.00000</td>\n",
       "      <td>0.60393</td>\n",
       "    </tr>\n",
       "    <tr>\n",
       "      <th>col_5</th>\n",
       "      <td>0.60393</td>\n",
       "      <td>1.00000</td>\n",
       "    </tr>\n",
       "  </tbody>\n",
       "</table>\n",
       "</div>"
      ],
      "text/plain": [
       "         col_2    col_5\n",
       "col_2  1.00000  0.60393\n",
       "col_5  0.60393  1.00000"
      ]
     },
     "execution_count": 17,
     "metadata": {},
     "output_type": "execute_result"
    }
   ],
   "source": [
    "df[['col_2', 'col_5']].corr(method='kendall') "
   ]
  },
  {
   "cell_type": "markdown",
   "id": "d87f1e20",
   "metadata": {},
   "source": [
    "### Graph\n",
    "For 'col_2' and 'col_5'"
   ]
  },
  {
   "cell_type": "code",
   "execution_count": 18,
   "id": "38fe27fe",
   "metadata": {},
   "outputs": [
    {
     "data": {
      "image/png": "[encoded data removed]",
      "text/plain": [
       "<Figure size 640x480 with 1 Axes>"
      ]
     },
     "metadata": {},
     "output_type": "display_data"
    }
   ],
   "source": [
    "plt.scatter(X, y,color='g')\n",
    "plt.plot(X, reg.predict(X),color='k')\n",
    "\n",
    "plt.show()"
   ]
  },
  {
   "cell_type": "markdown",
   "id": "ec75a2e3",
   "metadata": {},
   "source": [
    "### Declare input feature(s) and target feature(s)\n",
    "We can check linear relation between 'col_4' and 'col_5'"
   ]
  },
  {
   "cell_type": "code",
   "execution_count": 19,
   "id": "f1b3c685",
   "metadata": {},
   "outputs": [
    {
     "data": {
      "text/plain": [
       "((1456, 1), (1456, 1))"
      ]
     },
     "execution_count": 19,
     "metadata": {},
     "output_type": "execute_result"
    }
   ],
   "source": [
    "X = df[['col_4']].values\n",
    "y = df[['col_5']].values\n",
    "\n",
    "X.shape, y.shape"
   ]
  },
  {
   "cell_type": "markdown",
   "id": "22b45236",
   "metadata": {},
   "source": [
    "### Fit the regrassion model and evaluate it"
   ]
  },
  {
   "cell_type": "code",
   "execution_count": 20,
   "id": "5ef4199e",
   "metadata": {},
   "outputs": [],
   "source": [
    "reg = LinearRegression().fit(X, y)"
   ]
  },
  {
   "cell_type": "markdown",
   "id": "b731d456",
   "metadata": {},
   "source": [
    "### Get R^2 score (regression determination coefficient)\n",
    "For 'col_4' and 'col_5'"
   ]
  },
  {
   "cell_type": "code",
   "execution_count": 21,
   "id": "08e7bc37",
   "metadata": {},
   "outputs": [
    {
     "data": {
      "text/plain": [
       "0.4176792876713361"
      ]
     },
     "execution_count": 21,
     "metadata": {},
     "output_type": "execute_result"
    }
   ],
   "source": [
    "reg.score(X, y)"
   ]
  },
  {
   "cell_type": "code",
   "execution_count": 22,
   "id": "353fad12",
   "metadata": {},
   "outputs": [
    {
     "data": {
      "text/html": [
       "<div>\n",
       "<style scoped>\n",
       "    .dataframe tbody tr th:only-of-type {\n",
       "        vertical-align: middle;\n",
       "    }\n",
       "\n",
       "    .dataframe tbody tr th {\n",
       "        vertical-align: top;\n",
       "    }\n",
       "\n",
       "    .dataframe thead th {\n",
       "        text-align: right;\n",
       "    }\n",
       "</style>\n",
       "<table border=\"1\" class=\"dataframe\">\n",
       "  <thead>\n",
       "    <tr style=\"text-align: right;\">\n",
       "      <th></th>\n",
       "      <th>col_4</th>\n",
       "      <th>col_5</th>\n",
       "    </tr>\n",
       "  </thead>\n",
       "  <tbody>\n",
       "    <tr>\n",
       "      <th>col_4</th>\n",
       "      <td>1.000000</td>\n",
       "      <td>0.508518</td>\n",
       "    </tr>\n",
       "    <tr>\n",
       "      <th>col_5</th>\n",
       "      <td>0.508518</td>\n",
       "      <td>1.000000</td>\n",
       "    </tr>\n",
       "  </tbody>\n",
       "</table>\n",
       "</div>"
      ],
      "text/plain": [
       "          col_4     col_5\n",
       "col_4  1.000000  0.508518\n",
       "col_5  0.508518  1.000000"
      ]
     },
     "execution_count": 22,
     "metadata": {},
     "output_type": "execute_result"
    }
   ],
   "source": [
    "df[['col_4', 'col_5']].corr(method='kendall') "
   ]
  },
  {
   "cell_type": "markdown",
   "id": "217b52a7",
   "metadata": {},
   "source": [
    "### Graph\n",
    "For 'col_4' and 'col_5'"
   ]
  },
  {
   "cell_type": "code",
   "execution_count": 23,
   "id": "332fda30",
   "metadata": {},
   "outputs": [
    {
     "data": {
      "image/png": "[encoded data removed]",
      "text/plain": [
       "<Figure size 640x480 with 1 Axes>"
      ]
     },
     "metadata": {},
     "output_type": "display_data"
    }
   ],
   "source": [
    "plt.scatter(X, y,color='g')\n",
    "plt.plot(X, reg.predict(X),color='k')\n",
    "\n",
    "plt.show()"
   ]
  },
  {
   "cell_type": "markdown",
   "id": "f47006be",
   "metadata": {},
   "source": [
    "### Declare input feature(s) and target feature(s)\n",
    "We can check linear relation between 'col_3' and 'col_4'"
   ]
  },
  {
   "cell_type": "code",
   "execution_count": 24,
   "id": "44cbbd43",
   "metadata": {},
   "outputs": [
    {
     "data": {
      "text/plain": [
       "((1456, 1), (1456, 1))"
      ]
     },
     "execution_count": 24,
     "metadata": {},
     "output_type": "execute_result"
    }
   ],
   "source": [
    "X = df[['col_3']].values\n",
    "y = df[['col_4']].values\n",
    "\n",
    "X.shape, y.shape"
   ]
  },
  {
   "cell_type": "markdown",
   "id": "8c617010",
   "metadata": {},
   "source": [
    "### Fit the regrassion model and evaluate it"
   ]
  },
  {
   "cell_type": "code",
   "execution_count": 25,
   "id": "16b19454",
   "metadata": {},
   "outputs": [],
   "source": [
    "reg = LinearRegression().fit(X, y)"
   ]
  },
  {
   "cell_type": "markdown",
   "id": "f8ada6a6",
   "metadata": {},
   "source": [
    "### Get R^2 score (regression determination coefficient)\n",
    "For 'col_3' and 'col_4'"
   ]
  },
  {
   "cell_type": "code",
   "execution_count": 26,
   "id": "5bc5e78f",
   "metadata": {},
   "outputs": [
    {
     "data": {
      "text/plain": [
       "0.2850236857970252"
      ]
     },
     "execution_count": 26,
     "metadata": {},
     "output_type": "execute_result"
    }
   ],
   "source": [
    "reg.score(X, y)"
   ]
  },
  {
   "cell_type": "markdown",
   "id": "0e8996f6",
   "metadata": {},
   "source": [
    "### Find correlation\n",
    "For 'col_3' and 'col_4'"
   ]
  },
  {
   "cell_type": "code",
   "execution_count": 27,
   "id": "cbd12f88",
   "metadata": {
    "scrolled": true
   },
   "outputs": [
    {
     "data": {
      "text/html": [
       "<div>\n",
       "<style scoped>\n",
       "    .dataframe tbody tr th:only-of-type {\n",
       "        vertical-align: middle;\n",
       "    }\n",
       "\n",
       "    .dataframe tbody tr th {\n",
       "        vertical-align: top;\n",
       "    }\n",
       "\n",
       "    .dataframe thead th {\n",
       "        text-align: right;\n",
       "    }\n",
       "</style>\n",
       "<table border=\"1\" class=\"dataframe\">\n",
       "  <thead>\n",
       "    <tr style=\"text-align: right;\">\n",
       "      <th></th>\n",
       "      <th>col_3</th>\n",
       "      <th>col_4</th>\n",
       "    </tr>\n",
       "  </thead>\n",
       "  <tbody>\n",
       "    <tr>\n",
       "      <th>col_3</th>\n",
       "      <td>1.000000</td>\n",
       "      <td>0.391734</td>\n",
       "    </tr>\n",
       "    <tr>\n",
       "      <th>col_4</th>\n",
       "      <td>0.391734</td>\n",
       "      <td>1.000000</td>\n",
       "    </tr>\n",
       "  </tbody>\n",
       "</table>\n",
       "</div>"
      ],
      "text/plain": [
       "          col_3     col_4\n",
       "col_3  1.000000  0.391734\n",
       "col_4  0.391734  1.000000"
      ]
     },
     "execution_count": 27,
     "metadata": {},
     "output_type": "execute_result"
    }
   ],
   "source": [
    "df[['col_3', 'col_4']].corr(method='kendall')"
   ]
  },
  {
   "cell_type": "markdown",
   "id": "b8efb095",
   "metadata": {},
   "source": [
    "### Graph\n",
    "For 'col_3' and 'col_4'"
   ]
  },
  {
   "cell_type": "code",
   "execution_count": 28,
   "id": "fa6b737d",
   "metadata": {},
   "outputs": [
    {
     "data": {
      "image/png": "[encoded data removed]",
      "text/plain": [
       "<Figure size 640x480 with 1 Axes>"
      ]
     },
     "metadata": {},
     "output_type": "display_data"
    }
   ],
   "source": [
    "plt.scatter(X, y,color='g')\n",
    "plt.plot(X, reg.predict(X),color='k')\n",
    "\n",
    "plt.show()"
   ]
  },
  {
   "cell_type": "markdown",
   "id": "628357f6",
   "metadata": {},
   "source": [
    "### Declare input feature(s) and target feature(s)\n",
    "We can check linear relation between 'col_0' and 'col_1'"
   ]
  },
  {
   "cell_type": "code",
   "execution_count": 29,
   "id": "b2c745b3",
   "metadata": {},
   "outputs": [
    {
     "data": {
      "text/plain": [
       "((1456, 1), (1456, 1))"
      ]
     },
     "execution_count": 29,
     "metadata": {},
     "output_type": "execute_result"
    }
   ],
   "source": [
    "X = df[['col_0']].values\n",
    "y = df[['col_1']].values\n",
    "\n",
    "X.shape, y.shape"
   ]
  },
  {
   "cell_type": "markdown",
   "id": "2ab5ff00",
   "metadata": {},
   "source": [
    "### Fit the regrassion model and evaluate it"
   ]
  },
  {
   "cell_type": "code",
   "execution_count": 30,
   "id": "56d26c13",
   "metadata": {},
   "outputs": [],
   "source": [
    "reg = LinearRegression().fit(X, y)"
   ]
  },
  {
   "cell_type": "markdown",
   "id": "3aa7f3db",
   "metadata": {},
   "source": [
    "### Get R^2 score (regression determination coefficient)\n",
    "For 'col_0' and 'col_1'"
   ]
  },
  {
   "cell_type": "code",
   "execution_count": 31,
   "id": "66e1b7aa",
   "metadata": {},
   "outputs": [
    {
     "data": {
      "text/plain": [
       "0.0009990819143149698"
      ]
     },
     "execution_count": 31,
     "metadata": {},
     "output_type": "execute_result"
    }
   ],
   "source": [
    "reg.score(X, y)"
   ]
  },
  {
   "cell_type": "markdown",
   "id": "275fd3ea",
   "metadata": {},
   "source": [
    "### Find correlation\n",
    "For 'col_0' and 'col_1'"
   ]
  },
  {
   "cell_type": "code",
   "execution_count": 32,
   "id": "7742367b",
   "metadata": {
    "scrolled": false
   },
   "outputs": [
    {
     "data": {
      "text/html": [
       "<div>\n",
       "<style scoped>\n",
       "    .dataframe tbody tr th:only-of-type {\n",
       "        vertical-align: middle;\n",
       "    }\n",
       "\n",
       "    .dataframe tbody tr th {\n",
       "        vertical-align: top;\n",
       "    }\n",
       "\n",
       "    .dataframe thead th {\n",
       "        text-align: right;\n",
       "    }\n",
       "</style>\n",
       "<table border=\"1\" class=\"dataframe\">\n",
       "  <thead>\n",
       "    <tr style=\"text-align: right;\">\n",
       "      <th></th>\n",
       "      <th>col_0</th>\n",
       "      <th>col_1</th>\n",
       "    </tr>\n",
       "  </thead>\n",
       "  <tbody>\n",
       "    <tr>\n",
       "      <th>col_0</th>\n",
       "      <td>1.000000</td>\n",
       "      <td>0.050777</td>\n",
       "    </tr>\n",
       "    <tr>\n",
       "      <th>col_1</th>\n",
       "      <td>0.050777</td>\n",
       "      <td>1.000000</td>\n",
       "    </tr>\n",
       "  </tbody>\n",
       "</table>\n",
       "</div>"
      ],
      "text/plain": [
       "          col_0     col_1\n",
       "col_0  1.000000  0.050777\n",
       "col_1  0.050777  1.000000"
      ]
     },
     "execution_count": 32,
     "metadata": {},
     "output_type": "execute_result"
    }
   ],
   "source": [
    "df[['col_0', 'col_1']].corr(method='kendall')"
   ]
  },
  {
   "cell_type": "markdown",
   "id": "b12c8f59",
   "metadata": {},
   "source": [
    "### Declare input feature(s) and target feature(s)\n",
    "We can check linear relation between ('col_2' and 'col_3') as several indications for X and 'col_4'"
   ]
  },
  {
   "cell_type": "code",
   "execution_count": 33,
   "id": "d95c1cce",
   "metadata": {},
   "outputs": [
    {
     "data": {
      "text/plain": [
       "((1456, 2), (1456, 1))"
      ]
     },
     "execution_count": 33,
     "metadata": {},
     "output_type": "execute_result"
    }
   ],
   "source": [
    "X = df[['col_2', 'col_3']].values\n",
    "y = df[['col_4']].values\n",
    "\n",
    "X.shape, y.shape"
   ]
  },
  {
   "cell_type": "markdown",
   "id": "61f0c0df",
   "metadata": {},
   "source": [
    "### Fit the regrassion model and evaluate it"
   ]
  },
  {
   "cell_type": "code",
   "execution_count": 34,
   "id": "8dc5ed2b",
   "metadata": {},
   "outputs": [],
   "source": [
    "reg = LinearRegression().fit(X, y)"
   ]
  },
  {
   "cell_type": "markdown",
   "id": "5808bacd",
   "metadata": {},
   "source": [
    "### Get R^2 score (regression determination coefficient)\n",
    "For ('col_2', 'col_3') and 'col_4'"
   ]
  },
  {
   "cell_type": "code",
   "execution_count": 35,
   "id": "c72bd49a",
   "metadata": {},
   "outputs": [
    {
     "data": {
      "text/plain": [
       "0.9130827178612053"
      ]
     },
     "execution_count": 35,
     "metadata": {},
     "output_type": "execute_result"
    }
   ],
   "source": [
    "reg.score(X, y)"
   ]
  },
  {
   "cell_type": "code",
   "execution_count": 36,
   "id": "bd6b1a27",
   "metadata": {},
   "outputs": [],
   "source": [
    "def correlation_coefficient(T1, T2):\n",
    "    numerator = np.mean((T1 - T1.mean()) * (T2 - T2.mean()))\n",
    "    denominator = T1.std() * T2.std()\n",
    "    if denominator == 0:\n",
    "        return 0\n",
    "    else:\n",
    "        return numerator / denominator"
   ]
  },
  {
   "cell_type": "code",
   "execution_count": 37,
   "id": "9ceb7ba8",
   "metadata": {
    "scrolled": true
   },
   "outputs": [
    {
     "data": {
      "text/plain": [
       "0.6144621369475964"
      ]
     },
     "execution_count": 37,
     "metadata": {},
     "output_type": "execute_result"
    }
   ],
   "source": [
    "correlation_coefficient(X, y)"
   ]
  },
  {
   "cell_type": "markdown",
   "id": "f9bc3ca1",
   "metadata": {},
   "source": [
    "## Summary"
   ]
  },
  {
   "cell_type": "markdown",
   "id": "4d662434",
   "metadata": {},
   "source": [
    "На первой картинки можно видеть, что данные сильно связаны между колонками 'col_2' и 'col_3' (очень сильно), 'col_2' и 'col_4'(сильно), 'col_2' и 'col_5' (достаточно сильно), 'col_4' и 'col_5' (средне). Коэффициент корреляции здесь в пределах от примерно 0.9 до 0.6 (для 'col_4' и 'col_5' немного меньше), по сравнению с другими парами колонок. У этих значений есть линейная зависимость.\n",
    "\n",
    "Для примера можно посчитать значения коэффициента детерминации для 'col_0' and 'col_1'. Он равен ~ 0.00099, что говорит данные вообще никак не связаны. И колонка 'col_0' в паре с любой другой колонкой практически не имеет никакой связи, аналогично для колонки 'col_1'.\n",
    "\n",
    "Коэффициент детерминации для 'col_2' и 'col_3' равен ~ 0.81, т. е. значения очень хорошо математически связаны с небольшой ошибкой. Линия хорошо ложится на рисунке. Для 'col_2' и 'col_4' = ~0.67, 'col_2' и 'col_5' = ~0.58, 'col_4' и 'col_5' = ~0.41.\n",
    "\n",
    "Если расcмотреть графики, то можно заметить как данные постепенно отпочковываются от линии с уменьшением коэффициента детерминации, становятся менее связанными.\n",
    "\n",
    "Для случая, когда в X несколько признаков (например 'col_2' и 'col_3') и y ('col_4') коэффициент детерминации = ~0.91, данные связаны очень сильно, корреляция ~0.61."
   ]
  }
 ],
 "metadata": {
  "kernelspec": {
   "display_name": "Python 3 (ipykernel)",
   "language": "python",
   "name": "python3"
  },
  "language_info": {
   "codemirror_mode": {
    "name": "ipython",
    "version": 3
   },
   "file_extension": ".py",
   "mimetype": "text/x-python",
   "name": "python",
   "nbconvert_exporter": "python",
   "pygments_lexer": "ipython3",
   "version": "3.9.13"
  }
 },
 "nbformat": 4,
 "nbformat_minor": 5
}
